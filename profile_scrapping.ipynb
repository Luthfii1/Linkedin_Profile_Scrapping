{
 "cells": [
  {
   "attachments": {},
   "cell_type": "markdown",
   "metadata": {},
   "source": [
    "Library that we use"
   ]
  },
  {
   "cell_type": "code",
   "execution_count": 126,
   "metadata": {},
   "outputs": [],
   "source": [
    "import pandas as pd\n",
    "import requests\n",
    "import os\n",
    "import time\n",
    "from parsel import Selector\n",
    "from time import sleep\n",
    "from selenium import webdriver\n",
    "from selenium.webdriver.common.by import By\n",
    "from bs4 import BeautifulSoup\n",
    "import re"
   ]
  },
  {
   "cell_type": "code",
   "execution_count": 127,
   "metadata": {},
   "outputs": [
    {
     "name": "stderr",
     "output_type": "stream",
     "text": [
      "C:\\Users\\luthf\\AppData\\Local\\Temp\\ipykernel_5684\\3568009015.py:2: DeprecationWarning: executable_path has been deprecated, please pass in a Service object\n",
      "  driver = webdriver.Chrome(executable_path=r\"C:\\Users\\luthf\\Downloads\\chromedriver\\chromedriver.exe\")\n"
     ]
    }
   ],
   "source": [
    "# using chrome driver \n",
    "driver = webdriver.Chrome(executable_path=r\"C:\\Users\\luthf\\Downloads\\chromedriver\\chromedriver.exe\")\n",
    "\n",
    "# login\n",
    "url_login = 'https://www.linkedin.com/'\n",
    "url_feed = 'https://www.linkedin.com/feed/'\n",
    "\n",
    "# data scrapping\n",
    "data = [\"https://www.linkedin.com/in/gracellajovita/\", \"https://www.linkedin.com/in/salma-dewi-taufiqoh-436548183/\", \"https://www.linkedin.com/in/ammara-salma-nadira-laras/?originalSubdomain=id\", \"https://www.linkedin.com/in/ashka-rahutomo/\", \"https://www.linkedin.com/in/christinadwipa/\"]\n",
    "\n",
    "# username and password for login\n",
    "username = 'luthfimisbachulmunir@gmail.com'\n",
    "password = 'linkedin123321'\n",
    "\n",
    "# get the url\n",
    "driver.get(url_login)\n",
    "# request the url and get the response\n",
    "response = requests.get(url_login)\n",
    "\n",
    "# check the response status code\n",
    "while response.status_code != 200:\n",
    "    print(response.status_code)\n",
    "    driver.refresh()\n",
    "\n",
    "# to validate the data\n",
    "def validate(value):\n",
    "    if value:\n",
    "        return value\n",
    "    else:\n",
    "        return \"Null\""
   ]
  },
  {
   "cell_type": "code",
   "execution_count": 128,
   "metadata": {},
   "outputs": [
    {
     "name": "stdout",
     "output_type": "stream",
     "text": [
      "Success login\n"
     ]
    }
   ],
   "source": [
    "# check if the element is exist\n",
    "if driver.find_element(By.ID, 'session_key'):\n",
    "    driver.find_element(By.ID, 'session_key').send_keys(username)\n",
    "    driver.find_element(By.ID, 'session_password').send_keys(password)\n",
    "    driver.find_element(By.XPATH, '//*[@id=\"main-content\"]/section[1]/div/div/form/button').click()\n",
    "    print(\"Success login\")\n",
    "else: # if the element is not exist\n",
    "    print(\"Already login\")"
   ]
  },
  {
   "cell_type": "code",
   "execution_count": 110,
   "metadata": {},
   "outputs": [
    {
     "name": "stdout",
     "output_type": "stream",
     "text": [
      "Success go to feed page\n"
     ]
    }
   ],
   "source": [
    "driver.get(url_feed)\n",
    "print(\"Success go to feed page\")"
   ]
  },
  {
   "cell_type": "code",
   "execution_count": 129,
   "metadata": {},
   "outputs": [
    {
     "name": "stdout",
     "output_type": "stream",
     "text": [
      "Christina Dwi Permata Ayu\n",
      "Tanggal lahir : null\n"
     ]
    }
   ],
   "source": [
    "choose = data[4]\n",
    "driver.get(choose)\n",
    "response = requests.get(choose)\n",
    "sel = Selector(text=driver.page_source)\n",
    "soup = BeautifulSoup(driver.page_source, 'html.parser')\n",
    "\n",
    "time.sleep(3)\n",
    "\n",
    "name = driver.find_element(By.CSS_SELECTOR, 'h1.text-heading-xlarge.inline.t-24.v-align-middle.break-words').text\n",
    "tanggal_lahir = 'null'\n",
    "print(name)\n",
    "print('Tanggal lahir : ' + tanggal_lahir)"
   ]
  },
  {
   "cell_type": "code",
   "execution_count": 130,
   "metadata": {},
   "outputs": [
    {
     "name": "stdout",
     "output_type": "stream",
     "text": [
      "TELADAN Leadership Program Awardee at Tanoto Foundation │ Undergraduate International Relations Student at University of Indonesia\n"
     ]
    }
   ],
   "source": [
    "desc = driver.find_element(By.CSS_SELECTOR, 'div.text-body-medium.break-words').text\n",
    "# desc = desc.strip()\n",
    "print(desc)"
   ]
  },
  {
   "cell_type": "code",
   "execution_count": 105,
   "metadata": {},
   "outputs": [],
   "source": [
    "# # get the company name\n",
    "# company_name = driver.find_element(By.XPATH, '//li[@class=\"pv-text-details__right-panel-item\"]').text\n",
    "# print(company_name)"
   ]
  },
  {
   "cell_type": "code",
   "execution_count": 113,
   "metadata": {},
   "outputs": [
    {
     "name": "stdout",
     "output_type": "stream",
     "text": [
      "https://www.linkedin.com/in/ashka-rahutomo/\n"
     ]
    }
   ],
   "source": [
    "# get the linkedin url\n",
    "linkedin_url = driver.current_url\n",
    "print(linkedin_url)"
   ]
  },
  {
   "cell_type": "code",
   "execution_count": 125,
   "metadata": {},
   "outputs": [
    {
     "name": "stdout",
     "output_type": "stream",
     "text": [
      "Indonesia Accounting Fair FEB UI\n"
     ]
    }
   ],
   "source": [
    "driver.get(\"https://www.linkedin.com/in/kevin-kristanto-adhidharma-b49bb4217/\")\n",
    "time.sleep(3)\n",
    "# get the company name\n",
    "company_recent = driver.find_element(By.XPATH, '/html/body/div[5]/div[3]/div/div/div[2]/div/div/main/section[1]/div[2]/div[2]/ul/li[1]/button/span').text\n",
    "company_name, sep, tail = company_recent.partition('\\n')\n",
    "print(company_name)"
   ]
  },
  {
   "cell_type": "code",
   "execution_count": 115,
   "metadata": {},
   "outputs": [
    {
     "name": "stdout",
     "output_type": "stream",
     "text": [
      "Not yet work\n"
     ]
    }
   ],
   "source": [
    "# get the job detail\n",
    "try:\n",
    "    temp = driver.find_element(By.XPATH, '/html/body/div[5]/div[3]/div/div/div[2]/div/div/main/section[5]/div[3]/ul/li[1]/div/div[2]/div[2]/ul/li[1]/div/div[2]/div/a/div').text\n",
    "except:\n",
    "    temp = \"Not yet work\"\n",
    "\n",
    "job_detail, sep, tail = temp.partition('\\n')\n",
    "print(job_detail)"
   ]
  },
  {
   "cell_type": "code",
   "execution_count": 116,
   "metadata": {},
   "outputs": [
    {
     "name": "stdout",
     "output_type": "stream",
     "text": [
      "Faculty : null\n",
      "Major : Undergraduate, Mechanical Engineering\n",
      "Tahun lulus : Null\n",
      "Angkatan tanoto : 2023\n",
      "isGraduate : Not Yet\n"
     ]
    }
   ],
   "source": [
    "# driver.get(data[3])\n",
    "# time.sleep(3)\n",
    "# get the year graduate\n",
    "school_recent = driver.find_element(By.XPATH, '/html/body/div[5]/div[3]/div/div/div[2]/div/div/main/section[6]/div[3]/ul/li[1]/div/div[2]/div[1]').text\n",
    "head, sep, tail = school_recent.partition('\\nUniversity of Indonesia\\n')\n",
    "head, sep, tail = tail.partition('\\n')\n",
    "major, sep, tail = tail.partition('\\n')\n",
    "\n",
    "if tail == '': \n",
    "    year_tanoto = \"Null\"\n",
    "    year_graduate = \"Null\"\n",
    "else:\n",
    "    head, sep, duration = tail.partition('\\n')\n",
    "    duration, sep, tail = tail.partition('\\n')\n",
    "    year_tanoto, sep, graduate = tail.partition(' - ')\n",
    "\n",
    "    # keep only nmber from string year_tanoto\n",
    "    year_tanoto = re.sub(\"[^0-9]\", \"\", year_tanoto)\n",
    "    year_tanoto = int(year_tanoto)\n",
    "    year_tanoto += 1\n",
    "\n",
    "    if graduate == '':\n",
    "        graduate = \"Null\"\n",
    "    else:\n",
    "        # keep only nmber from string graduate\n",
    "        year_graduate = re.sub(\"[^0-9]\", \"\", graduate)\n",
    "        year_graduate = int(year_graduate)\n",
    "        # check if the graduate or not\n",
    "        if int(year_graduate) < 2023:\n",
    "            isGraduate = 'Graduated'\n",
    "        else:\n",
    "            isGraduate = 'Not Yet'\n",
    "\n",
    "faculty = 'null'\n",
    "print('Faculty : ' + faculty)\n",
    "print('Major : ' +  major)\n",
    "print('Tahun lulus : ' + str(year_graduate))\n",
    "print('Angkatan tanoto : ' +  str(year_tanoto))\n",
    "print('isGraduate : ' + isGraduate)"
   ]
  },
  {
   "cell_type": "code",
   "execution_count": 78,
   "metadata": {},
   "outputs": [
    {
     "name": "stdout",
     "output_type": "stream",
     "text": [
      "1'st Winner of National Electrical Summit\n",
      "Runner Up Ganesha IoTech Competition\n"
     ]
    }
   ],
   "source": [
    "driver.get(data[1])\n",
    "time.sleep(3)\n",
    "# get the achievement\n",
    "achievement = driver.find_element(By.XPATH, '/html/body/div[5]/div[3]/div/div/div[2]/div/div/main/section[10]/div[3]/ul/li[1]/div/div[2]').text\n",
    "achievement, sep, tail = achievement.partition('\\n')\n",
    "achievement2 = driver.find_element(By.XPATH, '/html/body/div[5]/div[3]/div/div/div[2]/div/div/main/section[10]/div[3]/ul/li[2]/div/div[2]').text\n",
    "achievement2, sep, tail = achievement2.partition('\\n')\n",
    "print(achievement)\n",
    "print(achievement2)\n",
    "# /html/body/div[5]/div[3]/div/div/div[2]/div/div/main/section[13]/div[3]/ul/li[1]/div/div[2]/div/div[1]/div\n",
    "# /html/body/div[5]/div[3]/div/div/div[2]/div/div/main/section[10]/div[3]/ul/li[1]/div/div[2]/div[1]/div[1]/div"
   ]
  },
  {
   "cell_type": "code",
   "execution_count": null,
   "metadata": {},
   "outputs": [
    {
     "name": "stdout",
     "output_type": "stream",
     "text": [
      "\n",
      "\n",
      "Name : Null\n",
      "desc : Null\n",
      "Company Name : Boston Consulting Group (BCG)\n",
      "Linkedin URL : https://www.linkedin.com/in/gracellajovita/\n",
      "Year of School : Null\n",
      "\n",
      "\n",
      "Name : Salma Dewi Taufiqoh\n",
      "desc : A computer Engineering student with high interest in Data Science\n",
      "Company Name : University of Indonesia\n",
      "Linkedin URL : https://www.linkedin.com/in/salma-dewi-taufiqoh-436548183/\n",
      "Year of School : Null\n"
     ]
    }
   ],
   "source": [
    "for x in data:\n",
    "    driver.get(x)\n",
    "    response = requests.get(x)\n",
    "    sel = Selector(text=driver.page_source)\n",
    "\n",
    "    time.sleep(5)\n",
    "    # get the name\n",
    "    name = sel.xpath('//h1[starts-with(@class, \"text-heading-xlarge inline t-24 v-align-middle break-words\")]/text()').extract_first()\n",
    "    # if name:\n",
    "    #     name = name.strip()\n",
    "    \n",
    "    # get the job title\n",
    "    # driver.get(x + \"details/experience/\")\n",
    "    # job = driver.find_element(By.XPATH, '//*[@id=\"profilePagedListComponent-ACoAACtUKGoBo-NmnAY5GnpBaJ6fBp8uRnMT-P8-EXPERIENCE-VIEW-DETAILS-profile-ACoAACtUKGoBo-NmnAY5GnpBaJ6fBp8uRnMT-P8-NONE-en-US-0\"]/div/div/div[2]/div[1]/div[1]/div').text\n",
    "    desc = sel.xpath('//*[starts-with(@class, \"text-body-medium break-words\")]/text()').extract_first()\n",
    "    # print(job)\n",
    "    if desc:\n",
    "        desc = desc.strip()\n",
    "\n",
    "    # get the company name\n",
    "    company_name = driver.find_element(By.XPATH, '//li[@class=\"pv-text-details__right-panel-item\"]').text\n",
    "\n",
    "\n",
    "    # get the linkedin url\n",
    "    linkedin_url = driver.current_url\n",
    "\n",
    "    # year of school\n",
    "    year_of_school = sel.xpath('//*[@id=\"ember664\"]/div[3]/ul/li[1]/div/div[2]/div/a/span[2]').extract_first()\n",
    "    if year_of_school:\n",
    "        year_of_school = year_of_school.strip()\n",
    "\n",
    "    \n",
    "\n",
    "    # validate\n",
    "    name = validate(name)\n",
    "    desc = validate(desc)\n",
    "    company_name = validate(company_name)\n",
    "    linkedin_url = validate(linkedin_url)\n",
    "    year_of_school = validate(year_of_school)\n",
    "\n",
    "    # print the result\n",
    "    print(\"\\n\")\n",
    "    print(\"Name : \" + name)\n",
    "    print(\"desc : \" + desc)\n",
    "    print(\"Company Name : \" + company_name)\n",
    "    print(\"Linkedin URL : \" + linkedin_url)\n",
    "    print(\"Year of School : \" + str(year_of_school))"
   ]
  },
  {
   "cell_type": "code",
   "execution_count": null,
   "metadata": {},
   "outputs": [],
   "source": [
    "\n",
    "driver.quit()"
   ]
  }
 ],
 "metadata": {
  "kernelspec": {
   "display_name": "Python 3",
   "language": "python",
   "name": "python3"
  },
  "language_info": {
   "codemirror_mode": {
    "name": "ipython",
    "version": 3
   },
   "file_extension": ".py",
   "mimetype": "text/x-python",
   "name": "python",
   "nbconvert_exporter": "python",
   "pygments_lexer": "ipython3",
   "version": "3.9.7"
  },
  "orig_nbformat": 4,
  "vscode": {
   "interpreter": {
    "hash": "809691ba479e4de2833e2f5c828a7c6232bda228cc6df14ea1b9426e38db402b"
   }
  }
 },
 "nbformat": 4,
 "nbformat_minor": 2
}
